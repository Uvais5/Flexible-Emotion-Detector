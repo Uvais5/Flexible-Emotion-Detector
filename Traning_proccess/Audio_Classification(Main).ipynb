{
 "cells": [
  {
   "cell_type": "markdown",
   "id": "4e1a2000",
   "metadata": {},
   "source": [
    "# 🎧 Audio Emotion Classification – Detailed Step-by-Step Explanation\n",
    "\n",
    "This section documents how we train an **LSTM-based neural network** to classify\n",
    "emotions from raw speech using MFCC features.  \n",
    "Dataset used: **TESS – Toronto Emotional Speech Set**.\n",
    "\n",
    "---\n",
    "\n",
    "## 1 · Imports & Setup\n",
    " - librosa – audio loading & MFCC extraction\n",
    "\n",
    " - LSTM – sequence model capturing temporal patterns in MFCCs"
   ]
  },
  {
   "cell_type": "code",
   "execution_count": 1,
   "id": "a22add63",
   "metadata": {},
   "outputs": [],
   "source": [
    "import pandas as pd\n",
    "import numpy as np\n",
    "import os\n",
    "import seaborn  as sns \n",
    "import matplotlib.pyplot as plt\n",
    "import librosa\n",
    "import librosa.display\n",
    "from IPython.display import Audio\n",
    "import warnings \n",
    "warnings.filterwarnings('ignore')\n"
   ]
  },
  {
   "cell_type": "markdown",
   "id": "d93aa05b",
   "metadata": {},
   "source": [
    "### 📂 Collecting File Paths & Emotion Labels\n",
    "\n",
    "The block below **discovers every audio file** in the TESS dataset directory and\n",
    "builds two aligned Python lists:\n",
    "\n",
    "| List | Contents | Example element |\n",
    "|------|----------|-----------------|\n",
    "| `path`   | Full file-path to the `.wav` file | `C:/…/TESS/.../OAF_back_angry.wav` |\n",
    "| `labels` | Ground-truth emotion derived from the filename | `angry` |\n",
    "\n"
   ]
  },
  {
   "cell_type": "code",
   "execution_count": 2,
   "id": "293c303c",
   "metadata": {},
   "outputs": [
    {
     "name": "stdout",
     "output_type": "stream",
     "text": [
      "Data set is loaded\n"
     ]
    }
   ],
   "source": [
    "path = []\n",
    "labels = []\n",
    "# Walk through all sub-folders in the TESS root directory\n",
    "for dirname, _, filenames in os.walk('C:/Users/uvais/Downloads/TESS Toronto emotional speech set data'):\n",
    "    for filename in filenames: # loop each file\n",
    "        # 1️⃣  Build the absolute file path\n",
    "        path.append(os.path.join(dirname,filename))\n",
    "        # 2️⃣  Extract the emotion label from the filename\n",
    "        #     TESS naming pattern:  <Speaker>_<Sentence>_<EMOTION>.wav\n",
    "        #     e.g. OAF_back_angry.wav   →   label = \"angry\"\n",
    "        label = filename.split('_')[-1]     # \"angry.wav\"\n",
    "        label = label.split('.')[0]         # \"angry\"\n",
    "        labels.append(label.lower())        # lower-case for consistency\n",
    "print(\"Data set is loaded\")"
   ]
  },
  {
   "cell_type": "code",
   "execution_count": 3,
   "id": "8aba2f67",
   "metadata": {},
   "outputs": [
    {
     "data": {
      "text/html": [
       "<div>\n",
       "<style scoped>\n",
       "    .dataframe tbody tr th:only-of-type {\n",
       "        vertical-align: middle;\n",
       "    }\n",
       "\n",
       "    .dataframe tbody tr th {\n",
       "        vertical-align: top;\n",
       "    }\n",
       "\n",
       "    .dataframe thead th {\n",
       "        text-align: right;\n",
       "    }\n",
       "</style>\n",
       "<table border=\"1\" class=\"dataframe\">\n",
       "  <thead>\n",
       "    <tr style=\"text-align: right;\">\n",
       "      <th></th>\n",
       "      <th>speech</th>\n",
       "      <th>labels</th>\n",
       "    </tr>\n",
       "  </thead>\n",
       "  <tbody>\n",
       "    <tr>\n",
       "      <th>0</th>\n",
       "      <td>C:/Users/uvais/Downloads/TESS Toronto emotiona...</td>\n",
       "      <td>angry</td>\n",
       "    </tr>\n",
       "    <tr>\n",
       "      <th>1</th>\n",
       "      <td>C:/Users/uvais/Downloads/TESS Toronto emotiona...</td>\n",
       "      <td>angry</td>\n",
       "    </tr>\n",
       "    <tr>\n",
       "      <th>2</th>\n",
       "      <td>C:/Users/uvais/Downloads/TESS Toronto emotiona...</td>\n",
       "      <td>angry</td>\n",
       "    </tr>\n",
       "    <tr>\n",
       "      <th>3</th>\n",
       "      <td>C:/Users/uvais/Downloads/TESS Toronto emotiona...</td>\n",
       "      <td>angry</td>\n",
       "    </tr>\n",
       "    <tr>\n",
       "      <th>4</th>\n",
       "      <td>C:/Users/uvais/Downloads/TESS Toronto emotiona...</td>\n",
       "      <td>angry</td>\n",
       "    </tr>\n",
       "  </tbody>\n",
       "</table>\n",
       "</div>"
      ],
      "text/plain": [
       "                                              speech labels\n",
       "0  C:/Users/uvais/Downloads/TESS Toronto emotiona...  angry\n",
       "1  C:/Users/uvais/Downloads/TESS Toronto emotiona...  angry\n",
       "2  C:/Users/uvais/Downloads/TESS Toronto emotiona...  angry\n",
       "3  C:/Users/uvais/Downloads/TESS Toronto emotiona...  angry\n",
       "4  C:/Users/uvais/Downloads/TESS Toronto emotiona...  angry"
      ]
     },
     "execution_count": 3,
     "metadata": {},
     "output_type": "execute_result"
    }
   ],
   "source": [
    "#Create a DataFrame for clean handling:\n",
    "df = pd.DataFrame()\n",
    "df['speech'] = path\n",
    "df['labels'] = labels\n",
    "df.head()"
   ]
  },
  {
   "cell_type": "markdown",
   "id": "2698df62",
   "metadata": {},
   "source": [
    "### 🔊 Extracting Audio Features using MFCC – `extract_mfcc()` Function\n",
    "\n",
    "To train a machine learning model for **audio emotion classification**, raw audio signals must be transformed into a meaningful **numerical representation**. The most common and effective method for speech-related tasks is using **MFCCs (Mel-Frequency Cepstral Coefficients)**.\n",
    "\n",
    "---\n",
    "\n",
    "                 \n"
   ]
  },
  {
   "cell_type": "code",
   "execution_count": 4,
   "id": "ca3db74e",
   "metadata": {},
   "outputs": [],
   "source": [
    "def extract_mfcc(filename):\n",
    "    y, sr = librosa.load(filename, duration=3,offset=0.5)\n",
    "    mfcc = np.mean(librosa.feature.mfcc(y=y, sr=sr, n_mfcc=40).T,axis=0)\n",
    "    return mfcc"
   ]
  },
  {
   "cell_type": "code",
   "execution_count": null,
   "id": "02f8465d",
   "metadata": {},
   "outputs": [],
   "source": [
    "#apply to the speech column\n",
    "X_mfcc = df['speech'].apply(lambda x: extract_mfcc(x))\n"
   ]
  },
  {
   "cell_type": "code",
   "execution_count": null,
   "id": "cb5a843d",
   "metadata": {},
   "outputs": [],
   "source": [
    "# X = [x for x in X_mfcc]\n",
    "# X = np.array(X) \n",
    "# X.shape\n",
    "X = np.stack(X_mfcc.to_numpy())          # shape ⇒ (N_samples, 40)\n",
    "X = np.expand_dims(X, -1)  # LSTM expects 3-D: (N, 40, 1)"
   ]
  },
  {
   "cell_type": "code",
   "execution_count": null,
   "id": "e6c81102",
   "metadata": {},
   "outputs": [],
   "source": [
    "# X = np.expand_dims(X, -1)   # LSTM expects 3-D: (N, 40, 1)\n",
    "# X.shape"
   ]
  },
  {
   "cell_type": "markdown",
   "id": "f9755d81",
   "metadata": {},
   "source": [
    "## Label Encoding\n",
    "- LabelEncoder converts emotion strings → integers 0-6.\n",
    "\n",
    "- to_categorical converts integers → one-hot vectors, e.g.\n",
    "angry → [1 0 0 0 0 0 0]."
   ]
  },
  {
   "cell_type": "code",
   "execution_count": 14,
   "id": "7a4fe586",
   "metadata": {},
   "outputs": [],
   "source": [
    "from tensorflow.keras.utils import to_categorical\n",
    "from sklearn.preprocessing import LabelEncoder\n",
    "labelencoder = LabelEncoder()\n",
    "y=to_categorical(labelencoder.fit_transform(df[['labels']]))"
   ]
  },
  {
   "cell_type": "code",
   "execution_count": 15,
   "id": "7b89d774",
   "metadata": {},
   "outputs": [
    {
     "data": {
      "text/plain": [
       "array([1., 0., 0., 0., 0., 0., 0.], dtype=float32)"
      ]
     },
     "execution_count": 15,
     "metadata": {},
     "output_type": "execute_result"
    }
   ],
   "source": [
    "y[0]"
   ]
  },
  {
   "cell_type": "markdown",
   "id": "e4135d40",
   "metadata": {},
   "source": [
    "### 🧠 Building the Audio Emotion Classification Model (LSTM-Based)\n",
    "\n",
    "After extracting fixed-length MFCC features from speech samples, we build a **deep learning model** to classify them into one of 7 emotion categories.\n",
    "\n",
    "---\n",
    "\n",
    "### 🧩 Model Architecture Details\n",
    "\n",
    "| Layer Type | Parameters | Description |\n",
    "|------------|------------|-------------|\n",
    "| **LSTM (123)** | `input_shape=(40, 1)`<br>`return_sequences=False` | First and only recurrent layer. Accepts MFCC features shaped **(40 timesteps × 1 coef)** and outputs a **123-dimensional** feature vector. |\n",
    "| **Dense (64)** | `activation='relu'` | Fully-connected hidden layer with **64 neurons** and ReLU activation. |\n",
    "| **Dropout (0.2)** | *20 % dropout* | Randomly deactivates 20 % of neurons each step to mitigate over-fitting. |\n",
    "| **Dense (32)** | `activation='relu'` | Another dense layer with **32 units**, adding non-linear transformation capacity. |\n",
    "| **Dropout (0.2)** | *20 % dropout* | Second dropout layer for additional regularisation. |\n",
    "| **Dense (7)** | `activation='softmax'` | Output layer with **7 neurons** (one per emotion class); softmax converts logits into a probability distribution. |\n"
   ]
  },
  {
   "cell_type": "code",
   "execution_count": 11,
   "id": "2de3543c",
   "metadata": {},
   "outputs": [
    {
     "name": "stdout",
     "output_type": "stream",
     "text": [
      "Model: \"sequential\"\n",
      "_________________________________________________________________\n",
      " Layer (type)                Output Shape              Param #   \n",
      "=================================================================\n",
      " lstm (LSTM)                 (None, 123)               61500     \n",
      "                                                                 \n",
      " dense (Dense)               (None, 64)                7936      \n",
      "                                                                 \n",
      " dropout (Dropout)           (None, 64)                0         \n",
      "                                                                 \n",
      " dense_1 (Dense)             (None, 32)                2080      \n",
      "                                                                 \n",
      " dropout_1 (Dropout)         (None, 32)                0         \n",
      "                                                                 \n",
      " dense_2 (Dense)             (None, 7)                 231       \n",
      "                                                                 \n",
      "=================================================================\n",
      "Total params: 71,747\n",
      "Trainable params: 71,747\n",
      "Non-trainable params: 0\n",
      "_________________________________________________________________\n"
     ]
    }
   ],
   "source": [
    "from keras.models import Sequential\n",
    "from keras.layers import Dense,LSTM,Dropout\n",
    "model = Sequential([\n",
    "    LSTM(123,return_sequences=False, input_shape=(40,1)),\n",
    "    Dense(64,activation='relu'),\n",
    "    Dropout(0.2),\n",
    "    Dense(32,activation='relu'),\n",
    "    Dropout(0.2),\n",
    "    Dense(7,activation='softmax')\n",
    "])\n",
    "model.compile(loss='categorical_crossentropy', optimizer='adam',metrics=['accuracy'])\n",
    "model.summary()"
   ]
  },
  {
   "cell_type": "markdown",
   "id": "b630d231",
   "metadata": {},
   "source": [
    "### ⚙️ `model.fit()` — Parameter Breakdown\n",
    "\n",
    "| Argument | Value | What it Means |\n",
    "|----------|-------|---------------|\n",
    "| **`X`** | NumPy array, shape **`(N_samples, 40, 1)`** | Input feature matrix &nbsp;→&nbsp; 40-dimensional MFCC sequence per audio clip. (The extra **`1`** dimension lets the LSTM treat it as **40 timesteps × 1 feature**). |\n",
    "| **`y`** | NumPy array, shape **`(N_samples, 7)`** | Target labels, one-hot encoded for **7 emotion classes**. |\n",
    "| **`validation_split`** | `0.20` | Keras automatically reserves **20 %** of `X` & `y` as a validation set each epoch—so no separate `X_val` / `y_val` needed. |\n",
    "| **`epochs`** | `100` | Model performs **100 complete passes** over the training data.<br>More epochs help convergence but may over-fit—add early-stopping if necessary. |\n",
    "| **`batch_size`** | `512` | Weights are updated **every 512 samples**. Large batches are feasible because MFCC vectors are small and speed up training. |\n",
    "| **`shuffle`** | `True` | Shuffles training data **before every epoch** to avoid order-based biases. |\n",
    "\n",
    "---\n",
    "\n",
    "### 📈 `history` — What It Stores\n",
    "\n",
    "`history` is a `keras.callbacks.History` object returned by `model.fit()`.  \n",
    "After training it contains a dictionary of per-epoch metrics:\n",
    "\n",
    "```python\n",
    "history.history.keys()\n",
    "# dict_keys(['loss', 'accuracy', 'val_loss', 'val_accuracy'])\n"
   ]
  },
  {
   "cell_type": "code",
   "execution_count": 12,
   "id": "e04e5687",
   "metadata": {},
   "outputs": [
    {
     "name": "stdout",
     "output_type": "stream",
     "text": [
      "Epoch 1/100\n",
      "9/9 [==============================] - 8s 176ms/step - loss: 1.8442 - accuracy: 0.2580 - val_loss: 1.7851 - val_accuracy: 0.2473\n",
      "Epoch 2/100\n",
      "9/9 [==============================] - 0s 26ms/step - loss: 1.5553 - accuracy: 0.4627 - val_loss: 1.4643 - val_accuracy: 0.5161\n",
      "Epoch 3/100\n",
      "9/9 [==============================] - 0s 23ms/step - loss: 1.1954 - accuracy: 0.5670 - val_loss: 1.0104 - val_accuracy: 0.5589\n",
      "Epoch 4/100\n",
      "9/9 [==============================] - 0s 25ms/step - loss: 0.9089 - accuracy: 0.6527 - val_loss: 0.8333 - val_accuracy: 0.5982\n",
      "Epoch 5/100\n",
      "9/9 [==============================] - 0s 28ms/step - loss: 0.7487 - accuracy: 0.7145 - val_loss: 0.5770 - val_accuracy: 0.7455\n",
      "Epoch 6/100\n",
      "9/9 [==============================] - 0s 26ms/step - loss: 0.6023 - accuracy: 0.7676 - val_loss: 0.3542 - val_accuracy: 0.8723\n",
      "Epoch 7/100\n",
      "9/9 [==============================] - 0s 22ms/step - loss: 0.4705 - accuracy: 0.8308 - val_loss: 0.2934 - val_accuracy: 0.9000\n",
      "Epoch 8/100\n",
      "9/9 [==============================] - 0s 21ms/step - loss: 0.3707 - accuracy: 0.8763 - val_loss: 0.1725 - val_accuracy: 0.9580\n",
      "Epoch 9/100\n",
      "9/9 [==============================] - 0s 23ms/step - loss: 0.3166 - accuracy: 0.8991 - val_loss: 0.1525 - val_accuracy: 0.9554\n",
      "Epoch 10/100\n",
      "9/9 [==============================] - 0s 22ms/step - loss: 0.2547 - accuracy: 0.9252 - val_loss: 0.0962 - val_accuracy: 0.9804\n",
      "Epoch 11/100\n",
      "9/9 [==============================] - 0s 20ms/step - loss: 0.1996 - accuracy: 0.9417 - val_loss: 0.0789 - val_accuracy: 0.9768\n",
      "Epoch 12/100\n",
      "9/9 [==============================] - 0s 22ms/step - loss: 0.1644 - accuracy: 0.9540 - val_loss: 0.0521 - val_accuracy: 0.9812\n",
      "Epoch 13/100\n",
      "9/9 [==============================] - 0s 25ms/step - loss: 0.1409 - accuracy: 0.9598 - val_loss: 0.0671 - val_accuracy: 0.9768\n",
      "Epoch 14/100\n",
      "9/9 [==============================] - 0s 30ms/step - loss: 0.1321 - accuracy: 0.9638 - val_loss: 0.0750 - val_accuracy: 0.9759\n",
      "Epoch 15/100\n",
      "9/9 [==============================] - 0s 26ms/step - loss: 0.1114 - accuracy: 0.9703 - val_loss: 0.0570 - val_accuracy: 0.9804\n",
      "Epoch 16/100\n",
      "9/9 [==============================] - 0s 30ms/step - loss: 0.1039 - accuracy: 0.9696 - val_loss: 0.0430 - val_accuracy: 0.9875\n",
      "Epoch 17/100\n",
      "9/9 [==============================] - 0s 22ms/step - loss: 0.0837 - accuracy: 0.9766 - val_loss: 0.0369 - val_accuracy: 0.9884\n",
      "Epoch 18/100\n",
      "9/9 [==============================] - 0s 22ms/step - loss: 0.0794 - accuracy: 0.9799 - val_loss: 0.0515 - val_accuracy: 0.9866\n",
      "Epoch 19/100\n",
      "9/9 [==============================] - 0s 22ms/step - loss: 0.0712 - accuracy: 0.9795 - val_loss: 0.0421 - val_accuracy: 0.9857\n",
      "Epoch 20/100\n",
      "9/9 [==============================] - 0s 21ms/step - loss: 0.0810 - accuracy: 0.9775 - val_loss: 0.0476 - val_accuracy: 0.9857\n",
      "Epoch 21/100\n",
      "9/9 [==============================] - 0s 21ms/step - loss: 0.0739 - accuracy: 0.9797 - val_loss: 0.0239 - val_accuracy: 0.9929\n",
      "Epoch 22/100\n",
      "9/9 [==============================] - 0s 25ms/step - loss: 0.0761 - accuracy: 0.9761 - val_loss: 0.0534 - val_accuracy: 0.9848\n",
      "Epoch 23/100\n",
      "9/9 [==============================] - 0s 23ms/step - loss: 0.0874 - accuracy: 0.9746 - val_loss: 0.0474 - val_accuracy: 0.9866\n",
      "Epoch 24/100\n",
      "9/9 [==============================] - 0s 21ms/step - loss: 0.0740 - accuracy: 0.9801 - val_loss: 0.0312 - val_accuracy: 0.9893\n",
      "Epoch 25/100\n",
      "9/9 [==============================] - 0s 26ms/step - loss: 0.0572 - accuracy: 0.9844 - val_loss: 0.0246 - val_accuracy: 0.9937\n",
      "Epoch 26/100\n",
      "9/9 [==============================] - 0s 34ms/step - loss: 0.0473 - accuracy: 0.9882 - val_loss: 0.0210 - val_accuracy: 0.9929\n",
      "Epoch 27/100\n",
      "9/9 [==============================] - 0s 32ms/step - loss: 0.0519 - accuracy: 0.9868 - val_loss: 0.0114 - val_accuracy: 0.9973\n",
      "Epoch 28/100\n",
      "9/9 [==============================] - 0s 22ms/step - loss: 0.0466 - accuracy: 0.9859 - val_loss: 0.0242 - val_accuracy: 0.9929\n",
      "Epoch 29/100\n",
      "9/9 [==============================] - 0s 18ms/step - loss: 0.0415 - accuracy: 0.9893 - val_loss: 0.0291 - val_accuracy: 0.9911\n",
      "Epoch 30/100\n",
      "9/9 [==============================] - 0s 26ms/step - loss: 0.0386 - accuracy: 0.9877 - val_loss: 0.0257 - val_accuracy: 0.9929\n",
      "Epoch 31/100\n",
      "9/9 [==============================] - 0s 36ms/step - loss: 0.0382 - accuracy: 0.9888 - val_loss: 0.0268 - val_accuracy: 0.9911\n",
      "Epoch 32/100\n",
      "9/9 [==============================] - 0s 33ms/step - loss: 0.0377 - accuracy: 0.9859 - val_loss: 0.0121 - val_accuracy: 0.9955\n",
      "Epoch 33/100\n",
      "9/9 [==============================] - 0s 22ms/step - loss: 0.0327 - accuracy: 0.9906 - val_loss: 0.0050 - val_accuracy: 0.9991\n",
      "Epoch 34/100\n",
      "9/9 [==============================] - 0s 22ms/step - loss: 0.0265 - accuracy: 0.9924 - val_loss: 0.0282 - val_accuracy: 0.9911\n",
      "Epoch 35/100\n",
      "9/9 [==============================] - 0s 22ms/step - loss: 0.0330 - accuracy: 0.9895 - val_loss: 0.0150 - val_accuracy: 0.9937\n",
      "Epoch 36/100\n",
      "9/9 [==============================] - 0s 21ms/step - loss: 0.0332 - accuracy: 0.9915 - val_loss: 0.0082 - val_accuracy: 0.9973\n",
      "Epoch 37/100\n",
      "9/9 [==============================] - 0s 23ms/step - loss: 0.0352 - accuracy: 0.9900 - val_loss: 0.0202 - val_accuracy: 0.9920\n",
      "Epoch 38/100\n",
      "9/9 [==============================] - 0s 19ms/step - loss: 0.0249 - accuracy: 0.9937 - val_loss: 0.0100 - val_accuracy: 0.9964\n",
      "Epoch 39/100\n",
      "9/9 [==============================] - 0s 28ms/step - loss: 0.0227 - accuracy: 0.9944 - val_loss: 0.0084 - val_accuracy: 0.9964\n",
      "Epoch 40/100\n",
      "9/9 [==============================] - 0s 30ms/step - loss: 0.0208 - accuracy: 0.9951 - val_loss: 0.0048 - val_accuracy: 0.9982\n",
      "Epoch 41/100\n",
      "9/9 [==============================] - 0s 23ms/step - loss: 0.0262 - accuracy: 0.9911 - val_loss: 0.0144 - val_accuracy: 0.9937\n",
      "Epoch 42/100\n",
      "9/9 [==============================] - 0s 23ms/step - loss: 0.0215 - accuracy: 0.9931 - val_loss: 0.0560 - val_accuracy: 0.9839\n",
      "Epoch 43/100\n",
      "9/9 [==============================] - 0s 22ms/step - loss: 0.0264 - accuracy: 0.9924 - val_loss: 0.0233 - val_accuracy: 0.9920\n",
      "Epoch 44/100\n",
      "9/9 [==============================] - 0s 23ms/step - loss: 0.0219 - accuracy: 0.9944 - val_loss: 0.0076 - val_accuracy: 0.9964\n",
      "Epoch 45/100\n",
      "9/9 [==============================] - 0s 21ms/step - loss: 0.0167 - accuracy: 0.9958 - val_loss: 0.0026 - val_accuracy: 0.9991\n",
      "Epoch 46/100\n",
      "9/9 [==============================] - 0s 22ms/step - loss: 0.0137 - accuracy: 0.9962 - val_loss: 0.0235 - val_accuracy: 0.9920\n",
      "Epoch 47/100\n",
      "9/9 [==============================] - 0s 29ms/step - loss: 0.0195 - accuracy: 0.9942 - val_loss: 0.0057 - val_accuracy: 0.9982\n",
      "Epoch 48/100\n",
      "9/9 [==============================] - 0s 25ms/step - loss: 0.0299 - accuracy: 0.9895 - val_loss: 0.0089 - val_accuracy: 0.9964\n",
      "Epoch 49/100\n",
      "9/9 [==============================] - 0s 27ms/step - loss: 0.0262 - accuracy: 0.9922 - val_loss: 0.0038 - val_accuracy: 0.9982\n",
      "Epoch 50/100\n",
      "9/9 [==============================] - 0s 30ms/step - loss: 0.0169 - accuracy: 0.9955 - val_loss: 0.0072 - val_accuracy: 0.9982\n",
      "Epoch 51/100\n",
      "9/9 [==============================] - 0s 23ms/step - loss: 0.0155 - accuracy: 0.9949 - val_loss: 0.0085 - val_accuracy: 0.9964\n",
      "Epoch 52/100\n",
      "9/9 [==============================] - 0s 23ms/step - loss: 0.0149 - accuracy: 0.9955 - val_loss: 0.0041 - val_accuracy: 0.9982\n",
      "Epoch 53/100\n",
      "9/9 [==============================] - 0s 22ms/step - loss: 0.0105 - accuracy: 0.9980 - val_loss: 0.0029 - val_accuracy: 0.9982\n",
      "Epoch 54/100\n",
      "9/9 [==============================] - 0s 25ms/step - loss: 0.0112 - accuracy: 0.9980 - val_loss: 0.0052 - val_accuracy: 0.9982\n",
      "Epoch 55/100\n",
      "9/9 [==============================] - 0s 24ms/step - loss: 0.0102 - accuracy: 0.9973 - val_loss: 0.0055 - val_accuracy: 0.9982\n",
      "Epoch 56/100\n",
      "9/9 [==============================] - 0s 22ms/step - loss: 0.0083 - accuracy: 0.9969 - val_loss: 0.0057 - val_accuracy: 0.9982\n",
      "Epoch 57/100\n",
      "9/9 [==============================] - 0s 20ms/step - loss: 0.0094 - accuracy: 0.9975 - val_loss: 0.0023 - val_accuracy: 0.9991\n",
      "Epoch 58/100\n",
      "9/9 [==============================] - 0s 22ms/step - loss: 0.0120 - accuracy: 0.9967 - val_loss: 0.0030 - val_accuracy: 0.9982\n",
      "Epoch 59/100\n",
      "9/9 [==============================] - 0s 26ms/step - loss: 0.0158 - accuracy: 0.9949 - val_loss: 0.0039 - val_accuracy: 0.9973\n",
      "Epoch 60/100\n",
      "9/9 [==============================] - 0s 25ms/step - loss: 0.0513 - accuracy: 0.9879 - val_loss: 0.0026 - val_accuracy: 0.9991\n",
      "Epoch 61/100\n",
      "9/9 [==============================] - 0s 23ms/step - loss: 0.0209 - accuracy: 0.9942 - val_loss: 0.0088 - val_accuracy: 0.9955\n",
      "Epoch 62/100\n",
      "9/9 [==============================] - 0s 23ms/step - loss: 0.0152 - accuracy: 0.9967 - val_loss: 0.0019 - val_accuracy: 1.0000\n",
      "Epoch 63/100\n",
      "9/9 [==============================] - 0s 23ms/step - loss: 0.0178 - accuracy: 0.9946 - val_loss: 0.0145 - val_accuracy: 0.9937\n",
      "Epoch 64/100\n",
      "9/9 [==============================] - 0s 21ms/step - loss: 0.0135 - accuracy: 0.9962 - val_loss: 0.0025 - val_accuracy: 0.9982\n",
      "Epoch 65/100\n",
      "9/9 [==============================] - 0s 21ms/step - loss: 0.0097 - accuracy: 0.9971 - val_loss: 0.0026 - val_accuracy: 0.9982\n",
      "Epoch 66/100\n",
      "9/9 [==============================] - 0s 21ms/step - loss: 0.0071 - accuracy: 0.9978 - val_loss: 0.0031 - val_accuracy: 0.9991\n",
      "Epoch 67/100\n",
      "9/9 [==============================] - 0s 17ms/step - loss: 0.0063 - accuracy: 0.9978 - val_loss: 0.0011 - val_accuracy: 1.0000\n",
      "Epoch 68/100\n",
      "9/9 [==============================] - 0s 18ms/step - loss: 0.0055 - accuracy: 0.9991 - val_loss: 0.0026 - val_accuracy: 0.9991\n",
      "Epoch 69/100\n",
      "9/9 [==============================] - 0s 22ms/step - loss: 0.0048 - accuracy: 0.9989 - val_loss: 4.6139e-04 - val_accuracy: 1.0000\n",
      "Epoch 70/100\n",
      "9/9 [==============================] - 0s 25ms/step - loss: 0.0041 - accuracy: 0.9996 - val_loss: 5.4411e-04 - val_accuracy: 1.0000\n",
      "Epoch 71/100\n",
      "9/9 [==============================] - 0s 23ms/step - loss: 0.0027 - accuracy: 1.0000 - val_loss: 6.9757e-04 - val_accuracy: 1.0000\n",
      "Epoch 72/100\n",
      "9/9 [==============================] - 0s 22ms/step - loss: 0.0041 - accuracy: 0.9991 - val_loss: 6.2439e-04 - val_accuracy: 1.0000\n",
      "Epoch 73/100\n",
      "9/9 [==============================] - 0s 20ms/step - loss: 0.0031 - accuracy: 0.9993 - val_loss: 2.5094e-04 - val_accuracy: 1.0000\n",
      "Epoch 74/100\n",
      "9/9 [==============================] - 0s 21ms/step - loss: 0.0025 - accuracy: 1.0000 - val_loss: 2.9867e-04 - val_accuracy: 1.0000\n",
      "Epoch 75/100\n",
      "9/9 [==============================] - 0s 24ms/step - loss: 0.0029 - accuracy: 0.9998 - val_loss: 3.1522e-04 - val_accuracy: 1.0000\n",
      "Epoch 76/100\n",
      "9/9 [==============================] - 0s 29ms/step - loss: 0.0031 - accuracy: 0.9993 - val_loss: 3.4997e-04 - val_accuracy: 1.0000\n",
      "Epoch 77/100\n",
      "9/9 [==============================] - 0s 17ms/step - loss: 0.0026 - accuracy: 0.9993 - val_loss: 2.9767e-04 - val_accuracy: 1.0000\n",
      "Epoch 78/100\n",
      "9/9 [==============================] - 0s 18ms/step - loss: 0.0039 - accuracy: 0.9991 - val_loss: 4.6025e-04 - val_accuracy: 1.0000\n",
      "Epoch 79/100\n",
      "9/9 [==============================] - 0s 24ms/step - loss: 0.0022 - accuracy: 0.9998 - val_loss: 3.6711e-04 - val_accuracy: 1.0000\n",
      "Epoch 80/100\n",
      "9/9 [==============================] - 0s 23ms/step - loss: 0.0024 - accuracy: 0.9996 - val_loss: 2.1289e-04 - val_accuracy: 1.0000\n",
      "Epoch 81/100\n",
      "9/9 [==============================] - 0s 22ms/step - loss: 0.0024 - accuracy: 0.9998 - val_loss: 1.6601e-04 - val_accuracy: 1.0000\n",
      "Epoch 82/100\n",
      "9/9 [==============================] - 0s 21ms/step - loss: 0.0017 - accuracy: 0.9998 - val_loss: 2.0238e-04 - val_accuracy: 1.0000\n",
      "Epoch 83/100\n",
      "9/9 [==============================] - 0s 22ms/step - loss: 0.0027 - accuracy: 0.9991 - val_loss: 0.0010 - val_accuracy: 0.9991\n",
      "Epoch 84/100\n",
      "9/9 [==============================] - 0s 24ms/step - loss: 0.0040 - accuracy: 0.9987 - val_loss: 0.0078 - val_accuracy: 0.9982\n",
      "Epoch 85/100\n",
      "9/9 [==============================] - 0s 22ms/step - loss: 0.0199 - accuracy: 0.9949 - val_loss: 0.0030 - val_accuracy: 0.9991\n",
      "Epoch 86/100\n",
      "9/9 [==============================] - 0s 23ms/step - loss: 0.0108 - accuracy: 0.9971 - val_loss: 5.1746e-04 - val_accuracy: 1.0000\n",
      "Epoch 87/100\n",
      "9/9 [==============================] - 0s 20ms/step - loss: 0.0080 - accuracy: 0.9975 - val_loss: 0.0137 - val_accuracy: 0.9973\n",
      "Epoch 88/100\n",
      "9/9 [==============================] - 0s 19ms/step - loss: 0.0079 - accuracy: 0.9978 - val_loss: 1.1719e-04 - val_accuracy: 1.0000\n",
      "Epoch 89/100\n",
      "9/9 [==============================] - 0s 24ms/step - loss: 0.0061 - accuracy: 0.9989 - val_loss: 0.0175 - val_accuracy: 0.9946\n",
      "Epoch 90/100\n",
      "9/9 [==============================] - 0s 22ms/step - loss: 0.0063 - accuracy: 0.9989 - val_loss: 2.5758e-04 - val_accuracy: 1.0000\n",
      "Epoch 91/100\n",
      "9/9 [==============================] - 0s 21ms/step - loss: 0.0027 - accuracy: 0.9996 - val_loss: 0.0025 - val_accuracy: 0.9991\n",
      "Epoch 92/100\n",
      "9/9 [==============================] - 0s 22ms/step - loss: 0.0037 - accuracy: 0.9989 - val_loss: 1.7462e-04 - val_accuracy: 1.0000\n",
      "Epoch 93/100\n",
      "9/9 [==============================] - 0s 23ms/step - loss: 0.0026 - accuracy: 0.9996 - val_loss: 0.0013 - val_accuracy: 0.9991\n",
      "Epoch 94/100\n",
      "9/9 [==============================] - 0s 21ms/step - loss: 0.0050 - accuracy: 0.9987 - val_loss: 2.0569e-04 - val_accuracy: 1.0000\n",
      "Epoch 95/100\n",
      "9/9 [==============================] - 0s 21ms/step - loss: 0.0025 - accuracy: 0.9998 - val_loss: 9.0138e-04 - val_accuracy: 1.0000\n",
      "Epoch 96/100\n",
      "9/9 [==============================] - 0s 21ms/step - loss: 0.0021 - accuracy: 0.9996 - val_loss: 3.5874e-04 - val_accuracy: 1.0000\n",
      "Epoch 97/100\n",
      "9/9 [==============================] - 0s 20ms/step - loss: 0.0021 - accuracy: 0.9996 - val_loss: 3.1095e-04 - val_accuracy: 1.0000\n",
      "Epoch 98/100\n",
      "9/9 [==============================] - 0s 18ms/step - loss: 0.0026 - accuracy: 0.9998 - val_loss: 7.6822e-04 - val_accuracy: 1.0000\n",
      "Epoch 99/100\n",
      "9/9 [==============================] - 0s 19ms/step - loss: 0.0024 - accuracy: 0.9991 - val_loss: 3.7270e-04 - val_accuracy: 1.0000\n",
      "Epoch 100/100\n",
      "9/9 [==============================] - 0s 24ms/step - loss: 0.0022 - accuracy: 0.9993 - val_loss: 7.8991e-05 - val_accuracy: 1.0000\n"
     ]
    }
   ],
   "source": [
    "#Train the model\n",
    "history = model.fit(X,y, validation_split=0.2,epochs=100, batch_size = 512,shuffle=True)"
   ]
  },
  {
   "cell_type": "code",
   "execution_count": 13,
   "id": "ff954274",
   "metadata": {},
   "outputs": [
    {
     "name": "stdout",
     "output_type": "stream",
     "text": [
      "1.0\n"
     ]
    }
   ],
   "source": [
    "#accuracy\n",
    "test_accuracy = model.evaluate(X,y,verbose=0)\n",
    "print(test_accuracy[1])"
   ]
  },
  {
   "cell_type": "markdown",
   "id": "463eaa49",
   "metadata": {},
   "source": [
    "## Testing and Model Saving"
   ]
  },
  {
   "cell_type": "code",
   "execution_count": 22,
   "id": "4a6840ef",
   "metadata": {},
   "outputs": [
    {
     "data": {
      "text/plain": [
       "array(['ps'], dtype=object)"
      ]
     },
     "execution_count": 22,
     "metadata": {},
     "output_type": "execute_result"
    }
   ],
   "source": [
    "#filename = \"C:/Machine Learning/Toronto _emo_ speech/OAF_happy/OAF_back_happy.wav\"\n",
    "filename = \"C:/Machine Learning/Toronto _emo_ speech/YAF_pleasant_surprised/YAF_back_ps.wav\"\n",
    "prediction_feature = extract_mfcc(filename)\n",
    "prediction_feature = prediction_feature.reshape(1,-1)\n",
    "#s = model.predict(prediction_feature)\n",
    "y_predict = np.argmax(model.predict(prediction_feature), axis=-1)\n",
    "model2 = labelencoder.inverse_transform(y_predict)\n",
    "model2"
   ]
  },
  {
   "cell_type": "code",
   "execution_count": 23,
   "id": "ec9ab293",
   "metadata": {},
   "outputs": [],
   "source": [
    "from keras.models import load_model\n",
    "model.save(\"emotion_audio_model.h5\")\n",
    "loaded_model = load_model(\"emotion_audio_model.h5\")"
   ]
  },
  {
   "cell_type": "code",
   "execution_count": 7,
   "id": "238c5613",
   "metadata": {},
   "outputs": [],
   "source": [
    "from keras.models import load_model\n",
    "loaded_model = load_model(\"emotion_audio_model.h5\")"
   ]
  },
  {
   "cell_type": "code",
   "execution_count": null,
   "id": "a2390989",
   "metadata": {},
   "outputs": [],
   "source": [
    "labels = {0 : \"angry\",\n",
    "         1 : \"disgust\",\n",
    "         2 : \"fear\",\n",
    "         3 : \"happy\",\n",
    "         4 : \"neutral\",\n",
    "         5 : \"Pleasure\",\n",
    "         6 : \"sad\"}"
   ]
  },
  {
   "cell_type": "code",
   "execution_count": 95,
   "id": "b3f340b8",
   "metadata": {},
   "outputs": [
    {
     "name": "stdout",
     "output_type": "stream",
     "text": [
      "neutral\n"
     ]
    }
   ],
   "source": [
    "filename = \"C:/Machine Learning/uv_r.wav\"\n",
    "prediction_feature = extract_mfcc(filename)\n",
    "prediction_feature = prediction_feature.reshape(1,-1)\n",
    "#s = model.predict(prediction_feature)\n",
    "y_predict = np.argmax(loaded_model.predict(prediction_feature), axis=-1)\n",
    "string = str(y_predict)[1:-1]\n",
    "inti = int(string)\n",
    "print(labels[inti])\n",
    "\n",
    "#model2 = labelencoder.inverse_transform(y_predict)\n",
    "#model2"
   ]
  },
  {
   "cell_type": "code",
   "execution_count": 98,
   "id": "318238c6",
   "metadata": {},
   "outputs": [
    {
     "name": "stdout",
     "output_type": "stream",
     "text": [
      "6\n"
     ]
    }
   ],
   "source": []
  },
  {
   "cell_type": "code",
   "execution_count": null,
   "id": "173e93a6",
   "metadata": {},
   "outputs": [],
   "source": []
  }
 ],
 "metadata": {
  "kernelspec": {
   "display_name": "Python 3 (ipykernel)",
   "language": "python",
   "name": "python3"
  },
  "language_info": {
   "codemirror_mode": {
    "name": "ipython",
    "version": 3
   },
   "file_extension": ".py",
   "mimetype": "text/x-python",
   "name": "python",
   "nbconvert_exporter": "python",
   "pygments_lexer": "ipython3",
   "version": "3.9.7"
  }
 },
 "nbformat": 4,
 "nbformat_minor": 5
}
